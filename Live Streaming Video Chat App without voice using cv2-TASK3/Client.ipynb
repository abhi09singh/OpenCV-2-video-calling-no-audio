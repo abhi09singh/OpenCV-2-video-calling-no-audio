{
 "cells": [
  {
   "cell_type": "code",
   "execution_count": null,
   "id": "474dad04",
   "metadata": {},
   "outputs": [],
   "source": [
    "import socket\n",
    "import cv2\n",
    "import pickle\n",
    "import struct\n",
    "import imutils"
   ]
  },
  {
   "cell_type": "markdown",
   "id": "3e17e951",
   "metadata": {},
   "source": [
    "# Socket creation"
   ]
  },
  {
   "cell_type": "code",
   "execution_count": null,
   "id": "37882f60",
   "metadata": {},
   "outputs": [],
   "source": [
    "client_socket = socket.socket(socket.AF_INET,socket.SOCK_STREAM)\n",
    "host_ip = '192.168.99.1' # paste your HOST IP\n",
    "port = 10050"
   ]
  },
  {
   "cell_type": "markdown",
   "id": "ceb5f684",
   "metadata": {},
   "source": [
    "# Socket connect "
   ]
  },
  {
   "cell_type": "code",
   "execution_count": null,
   "id": "5c35e70a",
   "metadata": {},
   "outputs": [],
   "source": [
    "client_socket.connect((host_ip,port))  # tuple\n",
    "data = b\"\" # Initialise data variable as a string , b - bytes\n",
    "# Payload size is defined with \"Q\" i.e.,unsigned long long integer that takes 8 bytes\n",
    "payload_size = struct.calcsize(\"Q\")"
   ]
  },
  {
   "cell_type": "markdown",
   "id": "8c236120",
   "metadata": {},
   "source": [
    "# Socket receive"
   ]
  },
  {
   "cell_type": "code",
   "execution_count": null,
   "id": "f120a995",
   "metadata": {},
   "outputs": [],
   "source": [
    "while True:\n",
    "    while len(data) < payload_size:\n",
    "        packet = client_socket.recv(4*1024) # 4K\n",
    "        if not packet: break\n",
    "        data+=packet\n",
    "    packed_msg_size = data[:payload_size]\n",
    "    data = data[payload_size:]\n",
    "    msg_size = struct.unpack(\"Q\",packed_msg_size)[0]\n",
    "    \n",
    "    while len(data) < msg_size:\n",
    "        data += client_socket.recv(4*1024)\n",
    "    frame_data = data[:msg_size]\n",
    "    data  = data[msg_size:]\n",
    "    frame = pickle.loads(frame_data)\n",
    "    cv2.imshow(\"RECEIVING VIDEO\",frame)\n",
    "    key = cv2.waitKey(10) \n",
    "    if key  == 13:\n",
    "        break\n",
    "client_socket.close()"
   ]
  },
  {
   "cell_type": "code",
   "execution_count": null,
   "id": "acdba810",
   "metadata": {},
   "outputs": [],
   "source": []
  }
 ],
 "metadata": {
  "kernelspec": {
   "display_name": "Python 3",
   "language": "python",
   "name": "python3"
  },
  "language_info": {
   "codemirror_mode": {
    "name": "ipython",
    "version": 3
   },
   "file_extension": ".py",
   "mimetype": "text/x-python",
   "name": "python",
   "nbconvert_exporter": "python",
   "pygments_lexer": "ipython3",
   "version": "3.8.8"
  }
 },
 "nbformat": 4,
 "nbformat_minor": 5
}
