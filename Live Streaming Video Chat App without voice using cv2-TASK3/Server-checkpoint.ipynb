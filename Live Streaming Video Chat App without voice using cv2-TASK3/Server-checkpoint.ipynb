{
 "cells": [
  {
   "cell_type": "code",
   "execution_count": null,
   "id": "18a13d0f",
   "metadata": {},
   "outputs": [],
   "source": [
    "import socket\n",
    "import cv2\n",
    "import pickle\n",
    "import struct\n",
    "import imutils\n"
   ]
  },
  {
   "cell_type": "markdown",
   "id": "3c4c05b5",
   "metadata": {},
   "source": [
    "# Socket creation:\n"
   ]
  },
  {
   "cell_type": "code",
   "execution_count": null,
   "id": "6db5bde1",
   "metadata": {},
   "outputs": [],
   "source": [
    "\n",
    "server_socket = socket.socket(socket.AF_INET,socket.SOCK_STREAM)\n",
    "host_name  = socket.gethostname()\n",
    "host_ip = socket.gethostbyname(host_name)\n",
    "print('HOST IP:',host_ip)\n",
    "port = 10050\n",
    "socket_address = (host_ip,port)"
   ]
  },
  {
   "cell_type": "markdown",
   "id": "74babb3b",
   "metadata": {},
   "source": [
    "# Socket bind\n"
   ]
  },
  {
   "cell_type": "code",
   "execution_count": null,
   "id": "3c7571cb",
   "metadata": {},
   "outputs": [],
   "source": [
    "server_socket.bind(socket_address)"
   ]
  },
  {
   "cell_type": "markdown",
   "id": "ba58e0bf",
   "metadata": {},
   "source": [
    "# Socket listen"
   ]
  },
  {
   "cell_type": "code",
   "execution_count": null,
   "id": "6c243dca",
   "metadata": {},
   "outputs": [],
   "source": [
    "server_socket.listen(5)\n",
    "print(\"LISTENING AT:\",socket_address)"
   ]
  },
  {
   "cell_type": "markdown",
   "id": "f6581931",
   "metadata": {},
   "source": [
    "# Socket accept"
   ]
  },
  {
   "cell_type": "code",
   "execution_count": null,
   "id": "eea84d6d",
   "metadata": {},
   "outputs": [],
   "source": [
    "while True:\n",
    "    client_socket,addr = server_socket.accept()\n",
    "    print('GOT CONNECTION FROM:',addr)\n",
    "    if client_socket:\n",
    "        vid = cv2.VideoCapture(0)\n",
    "        \n",
    "        while(vid.isOpened()):\n",
    "            img,frame = vid.read()\n",
    "            a = pickle.dumps(frame)\n",
    "            message = struct.pack(\"Q\",len(a))+a\n",
    "            client_socket.sendall(message)\n",
    "            \n",
    "            cv2.imshow('VIDEO FROM SERVER',frame)\n",
    "            key = cv2.waitKey(10) \n",
    "            if key ==13:\n",
    "                client_socket.close()"
   ]
  }
 ],
 "metadata": {
  "kernelspec": {
   "display_name": "Python 3",
   "language": "python",
   "name": "python3"
  },
  "language_info": {
   "codemirror_mode": {
    "name": "ipython",
    "version": 3
   },
   "file_extension": ".py",
   "mimetype": "text/x-python",
   "name": "python",
   "nbconvert_exporter": "python",
   "pygments_lexer": "ipython3",
   "version": "3.8.8"
  }
 },
 "nbformat": 4,
 "nbformat_minor": 5
}
